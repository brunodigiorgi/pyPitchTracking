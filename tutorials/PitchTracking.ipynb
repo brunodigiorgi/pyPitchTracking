{
 "cells": [
  {
   "cell_type": "markdown",
   "metadata": {
    "deletable": true,
    "editable": true,
    "toc": "true"
   },
   "source": [
    "# Table of Contents\n",
    " <p><div class=\"lev1 toc-item\"><a href=\"#Create-the-units\" data-toc-modified-id=\"Create-the-units-1\"><span class=\"toc-item-num\">1&nbsp;&nbsp;</span>Create the units</a></div><div class=\"lev1 toc-item\"><a href=\"#Run\" data-toc-modified-id=\"Run-2\"><span class=\"toc-item-num\">2&nbsp;&nbsp;</span>Run</a></div>"
   ]
  },
  {
   "cell_type": "markdown",
   "metadata": {
    "deletable": true,
    "editable": true
   },
   "source": [
    "This tutorial requires \n",
    "- pyPitchTracking https://github.com/brunodigiorgi/pyAudioGraph\n",
    "- pyPitchTracking https://github.com/brunodigiorgi/pyPitchTracking"
   ]
  },
  {
   "cell_type": "code",
   "execution_count": 1,
   "metadata": {
    "collapsed": false,
    "deletable": true,
    "editable": true
   },
   "outputs": [],
   "source": [
    "import pyAudioGraph as ag\n",
    "import pyPitchTracking as pypt"
   ]
  },
  {
   "cell_type": "markdown",
   "metadata": {
    "deletable": true,
    "editable": true
   },
   "source": [
    "# Create the units"
   ]
  },
  {
   "cell_type": "code",
   "execution_count": 2,
   "metadata": {
    "collapsed": false,
    "deletable": true,
    "editable": true,
    "scrolled": true
   },
   "outputs": [],
   "source": [
    "nchannels = 2\n",
    "sample_rate = 44100\n",
    "input_mode = \"disk\"  # choose \"mic\" or \"disk\" \n",
    "\n",
    "# parameters\n",
    "frame_size = 2048\n",
    "hop_size = 1024\n",
    "pri_stab = 450\n",
    "pri_vtp = -.001\n",
    "max_freq = 1500\n",
    "min_weight = 0.4\n",
    "\n",
    "# world\n",
    "w = ag.World(buf_len=hop_size, sample_rate=sample_rate)\n",
    "\n",
    "if(input_mode == \"disk\"):\n",
    "    wav_file_path = '../../PitchTracking/Dataset/AdeleHello.wav'  # set a *monophonic* audio file path\n",
    "    astream = ag.AudioStreamWaveFile(wav_file_path)\n",
    "    assert((astream.nchannels == nchannels) and (astream.sample_rate == sample_rate))\n",
    "    in_node = ag.Nodes.DiskInNode(w, astream)\n",
    "elif(input_mode == \"mic\"):\n",
    "    in_node = ag.Nodes.InNode(w)\n",
    "\n",
    "# pitch tracking\n",
    "context_movingviterbi = pypt.PitchTrackerContext.PitchTrackerProbContextMovingViterbi(pri_stab=pri_stab, pri_vtp=pri_vtp)\n",
    "pitch_tracker = pypt.PitchTrackerYin.PitchTrackerPYin(sample_rate=sample_rate, \n",
    "                                                      frame_size=frame_size, \n",
    "                                                      hop_size=hop_size,\n",
    "                                                      max_freq=max_freq, \n",
    "                                                      min_weight=min_weight, \n",
    "                                                      context=context_movingviterbi)\n",
    "pitch = pypt.PitchTrackerNode.PitchTrackerNode(w, pitch_tracker)\n",
    "\n",
    "# control rate recorder, with 2 tracks\n",
    "rec = ag.Nodes.ControlRateRecorder(w, 2)\n",
    "\n",
    "# rmsUnit\n",
    "rmsUnit = ag.Nodes.RmsNode(w)\n",
    "\n",
    "osc = ag.Nodes.SawOsc(w)\n",
    "fil_osc = ag.Nodes.Lowpass(w, f0=1600, Q=1)\n",
    "osc.w_out.plug_into(fil_osc.w_in)\n",
    "\n",
    "out = ag.Nodes.OutNode(w)\n",
    "\n",
    "# stereo to mono\n",
    "stm = ag.Nodes.MonizerNode(w, in_node)\n",
    "stm.w_out[0].plug_into(pitch.w_in)\n",
    "\n",
    "# drive sin osc with rms level from input\n",
    "stm.w_out[0].plug_into(rmsUnit.w_in)\n",
    "\n",
    "sin_osc_level = ag.Nodes.AudioSlopeGen(w, initial_value=1, speed=.9)\n",
    "rmsUnit.w_out.plug_into(sin_osc_level.w_in)\n",
    "sin_mult = ag.Nodes.AudioOpMult(w)\n",
    "fil_osc.w_out.plug_into(sin_mult.w_in1)\n",
    "sin_osc_level.w_out.plug_into(sin_mult.w_in2)\n",
    "\n",
    "# record pitch\n",
    "pitch.w_f0.plug_into(rec.w_in[0])\n",
    "pitch.w_voiced.plug_into(rec.w_in[1])\n",
    "\n",
    "# reproduce pitch\n",
    "pitch.w_f0.plug_into(osc.w_freq)\n",
    "pitch.w_f0.plug_into(fil_osc.w_f0)\n",
    "\n",
    "# level slope for smoothing voiced - non voiced transitions\n",
    "levelSlopeUnit = ag.Nodes.AudioSlopeGen(w, initial_value=0, speed=.5)\n",
    "pitch.w_voiced.plug_into(levelSlopeUnit.w_in)\n",
    "mult = ag.Nodes.AudioOpMult(w)\n",
    "sin_mult.w_out.plug_into(mult.w_in1)\n",
    "levelSlopeUnit.w_out.plug_into(mult.w_in2)\n",
    "\n",
    "# mix input and sin\n",
    "v_sin, v_input = 2, 0.15\n",
    "mix = ag.Nodes.MixerNode(w, np.array([[v_sin, 0], [v_sin, v_input]]))\n",
    "mult.w_out.plug_into(mix.w_in[0])\n",
    "stm.w_out[0].plug_into(mix.w_in[1])\n",
    "mix.w_out[0].plug_into(out.w_in[0])\n",
    "mix.w_out[1].plug_into(out.w_in[1])\n",
    "\n",
    "# add output nodes and compile the graph\n",
    "w.append([out, rec])\n",
    "w.sort()"
   ]
  },
  {
   "cell_type": "markdown",
   "metadata": {
    "deletable": true,
    "editable": true
   },
   "source": [
    "# Run "
   ]
  },
  {
   "cell_type": "code",
   "execution_count": 3,
   "metadata": {
    "collapsed": false,
    "deletable": true,
    "editable": true
   },
   "outputs": [],
   "source": [
    "import time\n",
    "\n",
    "if(input_mode == \"disk\"):\n",
    "    in_node.seek(20 * 44100)\n",
    "    in_node.prime()\n",
    "pitch.clear()\n",
    "rec.clear()\n",
    "\n",
    "w.start()\n",
    "time.sleep(20)\n",
    "w.stop()"
   ]
  }
 ],
 "metadata": {
  "kernelspec": {
   "display_name": "Python 3",
   "language": "python",
   "name": "python3"
  },
  "language_info": {
   "codemirror_mode": {
    "name": "ipython",
    "version": 3
   },
   "file_extension": ".py",
   "mimetype": "text/x-python",
   "name": "python",
   "nbconvert_exporter": "python",
   "pygments_lexer": "ipython3",
   "version": "3.5.3"
  },
  "toc": {
   "colors": {
    "hover_highlight": "#DAA520",
    "running_highlight": "#FF0000",
    "selected_highlight": "#FFD700"
   },
   "moveMenuLeft": true,
   "nav_menu": {
    "height": "84px",
    "width": "252px"
   },
   "navigate_menu": true,
   "number_sections": true,
   "sideBar": true,
   "threshold": 4,
   "toc_cell": true,
   "toc_section_display": "block",
   "toc_window_display": false
  }
 },
 "nbformat": 4,
 "nbformat_minor": 0
}
